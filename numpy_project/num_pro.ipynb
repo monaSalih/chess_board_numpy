{
 "cells": [
  {
   "cell_type": "markdown",
   "metadata": {},
   "source": [
    "# Mona Salih \n",
    "## Lab11-Numpy"
   ]
  },
  {
   "cell_type": "code",
   "execution_count": 17,
   "metadata": {},
   "outputs": [
    {
     "name": "stdout",
     "output_type": "stream",
     "text": [
      "False\n"
     ]
    },
    {
     "data": {
      "image/png": "[encoded data removed]",
      "text/plain": [
       "<Figure size 432x288 with 1 Axes>"
      ]
     },
     "metadata": {
      "needs_background": "light"
     },
     "output_type": "display_data"
    }
   ],
   "source": [
    "import numpy as np\n",
    "import matplotlib.pyplot as plt\n",
    "class ChessBoard:\n",
    "    def __init__(self):\n",
    "        self.grid = np.zeros([8,8,3])\n",
    "        for board_co in np.ndindex(8,8):\n",
    "            if board_co[0]%2 != board_co[1]%2:\n",
    "                self.grid[board_co[0],board_co[1]] = [1,1,1]\n",
    "    \n",
    "    def blue_color(self, row, col):\n",
    "        self.x_blue=row\n",
    "        self.y_blue=col\n",
    "        self.grid[row,col] = [0,0,1]\n",
    "    \n",
    "    def red_color(self, row, col):\n",
    "        self.x_red=row\n",
    "        self.y_red=col\n",
    "        self.grid[row,col] = [1,0,0]\n",
    "          \n",
    "    def render(self):\n",
    "        plt.imshow(self.grid)\n",
    "\n",
    "    def is_under_attack(self):\n",
    "\n",
    "        if self.x_blue==self.x_red or self.y_blue==self.y_red:\n",
    "            return True\n",
    "        elif abs(self.x_blue - self.x_red) == abs(self.y_blue - self.y_red):\n",
    "            return True\n",
    "        else:\n",
    "            return False \n",
    "    \n",
    "    \n",
    "   \n",
    "\n",
    "\n",
    "board = ChessBoard()\n",
    "board.blue_color(5,6)\n",
    "board.red_color(6,4)\n",
    "print(board.is_under_attack())\n",
    "board.render()"
   ]
  },
  {
   "cell_type": "code",
   "execution_count": 25,
   "metadata": {},
   "outputs": [
    {
     "name": "stdout",
     "output_type": "stream",
     "text": [
      "True\n"
     ]
    },
    {
     "data": {
      "image/png": "[encoded data removed]",
      "text/plain": [
       "<Figure size 432x288 with 1 Axes>"
      ]
     },
     "metadata": {
      "needs_background": "light"
     },
     "output_type": "display_data"
    }
   ],
   "source": [
    "def in_same_row():\n",
    "    chess=ChessBoard()\n",
    "    chess.red_color(4,4)\n",
    "    chess.blue_color(4,0)\n",
    "    chess.render()  \n",
    "    expected=True\n",
    "    actul=chess.is_under_attack()\n",
    "    assert expected==actul\n",
    "    print(actul) \n",
    "in_same_row()"
   ]
  },
  {
   "cell_type": "code",
   "execution_count": 19,
   "metadata": {},
   "outputs": [
    {
     "name": "stdout",
     "output_type": "stream",
     "text": [
      "True\n"
     ]
    },
    {
     "data": {
      "image/png": "[encoded data removed]",
      "text/plain": [
       "<Figure size 432x288 with 1 Axes>"
      ]
     },
     "metadata": {
      "needs_background": "light"
     },
     "output_type": "display_data"
    }
   ],
   "source": [
    "def in_same_column():\n",
    "    chess=ChessBoard()\n",
    "    chess.red_color(1,3)\n",
    "    chess.blue_color(3,3)\n",
    "    chess.render()  \n",
    "    expected=True\n",
    "    actul=chess.is_under_attack()\n",
    "    assert expected==actul\n",
    "    print(actul) \n",
    "in_same_column()"
   ]
  },
  {
   "cell_type": "code",
   "execution_count": 26,
   "metadata": {},
   "outputs": [
    {
     "name": "stdout",
     "output_type": "stream",
     "text": [
      "True\n"
     ]
    },
    {
     "data": {
      "image/png": "[encoded data removed]",
      "text/plain": [
       "<Figure size 432x288 with 1 Axes>"
      ]
     },
     "metadata": {
      "needs_background": "light"
     },
     "output_type": "display_data"
    }
   ],
   "source": [
    "def same_diagonal():\n",
    "    chess=ChessBoard()\n",
    "    chess.red_color(7,4)\n",
    "    chess.blue_color(5,2)\n",
    "    chess.render()  \n",
    "    expected=True\n",
    "    actul=chess.is_under_attack()\n",
    "    assert expected==actul\n",
    "    print(actul) \n",
    "same_diagonal()"
   ]
  },
  {
   "cell_type": "code",
   "execution_count": 27,
   "metadata": {},
   "outputs": [
    {
     "name": "stdout",
     "output_type": "stream",
     "text": [
      "False\n"
     ]
    },
    {
     "data": {
      "image/png": "[encoded data removed]",
      "text/plain": [
       "<Figure size 432x288 with 1 Axes>"
      ]
     },
     "metadata": {
      "needs_background": "light"
     },
     "output_type": "display_data"
    }
   ],
   "source": [
    "def same_diagonal():\n",
    "    chess=ChessBoard()\n",
    "    chess.red_color(0,7)\n",
    "    chess.blue_color(2,0)\n",
    "    chess.render()  \n",
    "    expected=False\n",
    "    actul=chess.is_under_attack()\n",
    "    assert expected==actul\n",
    "    print(actul) \n",
    "same_diagonal()"
   ]
  },
  {
   "cell_type": "code",
   "execution_count": null,
   "metadata": {},
   "outputs": [],
   "source": []
  }
 ],
 "metadata": {
  "interpreter": {
   "hash": "1373396eda501161626b1db25d500d90b52f6605a91148917b169933306295f7"
  },
  "kernelspec": {
   "display_name": "Python 3.8.10 64-bit ('.venv': poetry)",
   "name": "python3"
  },
  "language_info": {
   "codemirror_mode": {
    "name": "ipython",
    "version": 3
   },
   "file_extension": ".py",
   "mimetype": "text/x-python",
   "name": "python",
   "nbconvert_exporter": "python",
   "pygments_lexer": "ipython3",
   "version": "3.8.10"
  },
  "orig_nbformat": 4
 },
 "nbformat": 4,
 "nbformat_minor": 2
}
